{
 "cells": [
  {
   "cell_type": "code",
   "execution_count": 40,
   "metadata": {
    "collapsed": false,
    "deletable": true,
    "editable": true
   },
   "outputs": [],
   "source": [
    "import datetime as datetime\n",
    "import pandas as pd\n",
    "import numpy as np\n",
    "import matplotlib.pyplot as plt\n",
    "import seaborn as sns\n",
    "import datetime as dt\n",
    "import pyspark\n",
    "\n",
    "plt.style.use('default') # Make the graphs a bit prettier\n",
    "plt.rcParams['figure.figsize'] = (15, 5)\n",
    "%matplotlib inline"
   ]
  },
  {
   "cell_type": "code",
   "execution_count": 41,
   "metadata": {
    "collapsed": false,
    "deletable": true,
    "editable": true
   },
   "outputs": [],
   "source": [
    "train = pd.read_csv('data/trips_train_with_stationweather.csv', low_memory=False)\n",
    "train_filtered = pd.read_csv('data/trips_train_with_stationweather_filtered.csv', low_memory=False)\n",
    "test = pd.read_csv('data/trips_test_with_stationweather.csv', low_memory=False)"
   ]
  },
  {
   "cell_type": "code",
   "execution_count": 42,
   "metadata": {
    "collapsed": false,
    "deletable": true,
    "editable": true
   },
   "outputs": [
    {
     "name": "stdout",
     "output_type": "stream",
     "text": [
      "(549961, 17)\n"
     ]
    },
    {
     "data": {
      "text/html": [
       "<div>\n",
       "<table border=\"1\" class=\"dataframe\">\n",
       "  <thead>\n",
       "    <tr style=\"text-align: right;\">\n",
       "      <th></th>\n",
       "      <th>duration</th>\n",
       "      <th>season</th>\n",
       "      <th>start_station_id</th>\n",
       "      <th>end_station_id</th>\n",
       "      <th>start_hour</th>\n",
       "      <th>day_of_week</th>\n",
       "      <th>subscription_type</th>\n",
       "      <th>mean_temperature_f</th>\n",
       "      <th>mean_dew_point_f</th>\n",
       "      <th>mean_humidity</th>\n",
       "      <th>mean_sea_level_pressure_inches</th>\n",
       "      <th>mean_visibility_miles</th>\n",
       "      <th>mean_wind_speed_mph</th>\n",
       "      <th>max_gust_speed_mph</th>\n",
       "      <th>precipitation_inches</th>\n",
       "      <th>events</th>\n",
       "      <th>wind_dir_degrees</th>\n",
       "    </tr>\n",
       "  </thead>\n",
       "  <tbody>\n",
       "    <tr>\n",
       "      <th>0</th>\n",
       "      <td>396</td>\n",
       "      <td>summer</td>\n",
       "      <td>50</td>\n",
       "      <td>60</td>\n",
       "      <td>8</td>\n",
       "      <td>3</td>\n",
       "      <td>Subscriber</td>\n",
       "      <td>72.0</td>\n",
       "      <td>55.0</td>\n",
       "      <td>57.0</td>\n",
       "      <td>30.01</td>\n",
       "      <td>10.0</td>\n",
       "      <td>6.0</td>\n",
       "      <td>29.0</td>\n",
       "      <td>0</td>\n",
       "      <td>Clear</td>\n",
       "      <td>272.0</td>\n",
       "    </tr>\n",
       "    <tr>\n",
       "      <th>1</th>\n",
       "      <td>981</td>\n",
       "      <td>summer</td>\n",
       "      <td>50</td>\n",
       "      <td>82</td>\n",
       "      <td>9</td>\n",
       "      <td>3</td>\n",
       "      <td>Subscriber</td>\n",
       "      <td>72.0</td>\n",
       "      <td>55.0</td>\n",
       "      <td>57.0</td>\n",
       "      <td>30.01</td>\n",
       "      <td>10.0</td>\n",
       "      <td>6.0</td>\n",
       "      <td>29.0</td>\n",
       "      <td>0</td>\n",
       "      <td>Clear</td>\n",
       "      <td>272.0</td>\n",
       "    </tr>\n",
       "  </tbody>\n",
       "</table>\n",
       "</div>"
      ],
      "text/plain": [
       "   duration  season  start_station_id  end_station_id  start_hour  \\\n",
       "0       396  summer                50              60           8   \n",
       "1       981  summer                50              82           9   \n",
       "\n",
       "   day_of_week subscription_type  mean_temperature_f  mean_dew_point_f  \\\n",
       "0            3        Subscriber                72.0              55.0   \n",
       "1            3        Subscriber                72.0              55.0   \n",
       "\n",
       "   mean_humidity  mean_sea_level_pressure_inches  mean_visibility_miles  \\\n",
       "0           57.0                           30.01                   10.0   \n",
       "1           57.0                           30.01                   10.0   \n",
       "\n",
       "   mean_wind_speed_mph  max_gust_speed_mph precipitation_inches events  \\\n",
       "0                  6.0                29.0                    0  Clear   \n",
       "1                  6.0                29.0                    0  Clear   \n",
       "\n",
       "   wind_dir_degrees  \n",
       "0             272.0  \n",
       "1             272.0  "
      ]
     },
     "execution_count": 42,
     "metadata": {},
     "output_type": "execute_result"
    }
   ],
   "source": [
    "print train.shape\n",
    "train.head(2)\n"
   ]
  },
  {
   "cell_type": "code",
   "execution_count": 43,
   "metadata": {
    "collapsed": false,
    "deletable": true,
    "editable": true
   },
   "outputs": [
    {
     "data": {
      "text/html": [
       "<div>\n",
       "<table border=\"1\" class=\"dataframe\">\n",
       "  <thead>\n",
       "    <tr style=\"text-align: right;\">\n",
       "      <th></th>\n",
       "      <th>trip_id</th>\n",
       "      <th>season</th>\n",
       "      <th>start_station_id</th>\n",
       "      <th>end_station_id</th>\n",
       "      <th>start_hour</th>\n",
       "      <th>day_of_week</th>\n",
       "      <th>subscription_type</th>\n",
       "      <th>mean_temperature_f</th>\n",
       "      <th>mean_dew_point_f</th>\n",
       "      <th>mean_humidity</th>\n",
       "      <th>mean_sea_level_pressure_inches</th>\n",
       "      <th>mean_visibility_miles</th>\n",
       "      <th>mean_wind_speed_mph</th>\n",
       "      <th>max_gust_speed_mph</th>\n",
       "      <th>precipitation_inches</th>\n",
       "      <th>events</th>\n",
       "      <th>wind_dir_degrees</th>\n",
       "    </tr>\n",
       "  </thead>\n",
       "  <tbody>\n",
       "    <tr>\n",
       "      <th>0</th>\n",
       "      <td>504737</td>\n",
       "      <td>autumn</td>\n",
       "      <td>60</td>\n",
       "      <td>71</td>\n",
       "      <td>11</td>\n",
       "      <td>5</td>\n",
       "      <td>Customer</td>\n",
       "      <td>65.0</td>\n",
       "      <td>54.0</td>\n",
       "      <td>64.0</td>\n",
       "      <td>29.94</td>\n",
       "      <td>10.0</td>\n",
       "      <td>6.0</td>\n",
       "      <td>28.0</td>\n",
       "      <td>0</td>\n",
       "      <td>Clear</td>\n",
       "      <td>285.0</td>\n",
       "    </tr>\n",
       "    <tr>\n",
       "      <th>1</th>\n",
       "      <td>505036</td>\n",
       "      <td>autumn</td>\n",
       "      <td>60</td>\n",
       "      <td>61</td>\n",
       "      <td>17</td>\n",
       "      <td>5</td>\n",
       "      <td>Subscriber</td>\n",
       "      <td>65.0</td>\n",
       "      <td>54.0</td>\n",
       "      <td>64.0</td>\n",
       "      <td>29.94</td>\n",
       "      <td>10.0</td>\n",
       "      <td>6.0</td>\n",
       "      <td>28.0</td>\n",
       "      <td>0</td>\n",
       "      <td>Clear</td>\n",
       "      <td>285.0</td>\n",
       "    </tr>\n",
       "  </tbody>\n",
       "</table>\n",
       "</div>"
      ],
      "text/plain": [
       "   trip_id  season  start_station_id  end_station_id  start_hour  day_of_week  \\\n",
       "0   504737  autumn                60              71          11            5   \n",
       "1   505036  autumn                60              61          17            5   \n",
       "\n",
       "  subscription_type  mean_temperature_f  mean_dew_point_f  mean_humidity  \\\n",
       "0          Customer                65.0              54.0           64.0   \n",
       "1        Subscriber                65.0              54.0           64.0   \n",
       "\n",
       "   mean_sea_level_pressure_inches  mean_visibility_miles  mean_wind_speed_mph  \\\n",
       "0                           29.94                   10.0                  6.0   \n",
       "1                           29.94                   10.0                  6.0   \n",
       "\n",
       "   max_gust_speed_mph precipitation_inches events  wind_dir_degrees  \n",
       "0                28.0                    0  Clear             285.0  \n",
       "1                28.0                    0  Clear             285.0  "
      ]
     },
     "execution_count": 43,
     "metadata": {},
     "output_type": "execute_result"
    }
   ],
   "source": [
    "test.head(2)"
   ]
  },
  {
   "cell_type": "code",
   "execution_count": 44,
   "metadata": {
    "collapsed": false,
    "deletable": true,
    "editable": true
   },
   "outputs": [
    {
     "data": {
      "text/html": [
       "<div>\n",
       "<table border=\"1\" class=\"dataframe\">\n",
       "  <thead>\n",
       "    <tr style=\"text-align: right;\">\n",
       "      <th></th>\n",
       "      <th>mean_temperature_f</th>\n",
       "      <th>duration</th>\n",
       "    </tr>\n",
       "  </thead>\n",
       "  <tbody>\n",
       "    <tr>\n",
       "      <th>0</th>\n",
       "      <td>1</td>\n",
       "      <td>1009.471835</td>\n",
       "    </tr>\n",
       "    <tr>\n",
       "      <th>1</th>\n",
       "      <td>2</td>\n",
       "      <td>984.504272</td>\n",
       "    </tr>\n",
       "    <tr>\n",
       "      <th>2</th>\n",
       "      <td>3</td>\n",
       "      <td>1245.619184</td>\n",
       "    </tr>\n",
       "    <tr>\n",
       "      <th>3</th>\n",
       "      <td>4</td>\n",
       "      <td>1179.927536</td>\n",
       "    </tr>\n",
       "    <tr>\n",
       "      <th>4</th>\n",
       "      <td>5</td>\n",
       "      <td>1129.538014</td>\n",
       "    </tr>\n",
       "  </tbody>\n",
       "</table>\n",
       "</div>"
      ],
      "text/plain": [
       "  mean_temperature_f     duration\n",
       "0                  1  1009.471835\n",
       "1                  2   984.504272\n",
       "2                  3  1245.619184\n",
       "3                  4  1179.927536\n",
       "4                  5  1129.538014"
      ]
     },
     "execution_count": 44,
     "metadata": {},
     "output_type": "execute_result"
    }
   ],
   "source": [
    "group_names = ['1', '2', '3', '4', '5']\n",
    "train['mean_temperature_f'] = pd.qcut(train['mean_temperature_f'], 5, labels=group_names)\n",
    "train[['mean_temperature_f', 'duration']].groupby(['mean_temperature_f'], as_index=False).mean().sort_values(by='mean_temperature_f', ascending=True)"
   ]
  },
  {
   "cell_type": "code",
   "execution_count": 45,
   "metadata": {
    "collapsed": false,
    "deletable": true,
    "editable": true
   },
   "outputs": [
    {
     "data": {
      "text/html": [
       "<div>\n",
       "<table border=\"1\" class=\"dataframe\">\n",
       "  <thead>\n",
       "    <tr style=\"text-align: right;\">\n",
       "      <th></th>\n",
       "      <th>mean_dew_point_f</th>\n",
       "      <th>duration</th>\n",
       "    </tr>\n",
       "  </thead>\n",
       "  <tbody>\n",
       "    <tr>\n",
       "      <th>0</th>\n",
       "      <td>1</td>\n",
       "      <td>1042.688781</td>\n",
       "    </tr>\n",
       "    <tr>\n",
       "      <th>1</th>\n",
       "      <td>2</td>\n",
       "      <td>1051.163972</td>\n",
       "    </tr>\n",
       "    <tr>\n",
       "      <th>2</th>\n",
       "      <td>3</td>\n",
       "      <td>1076.855895</td>\n",
       "    </tr>\n",
       "    <tr>\n",
       "      <th>3</th>\n",
       "      <td>4</td>\n",
       "      <td>1318.130032</td>\n",
       "    </tr>\n",
       "  </tbody>\n",
       "</table>\n",
       "</div>"
      ],
      "text/plain": [
       "  mean_dew_point_f     duration\n",
       "0                1  1042.688781\n",
       "1                2  1051.163972\n",
       "2                3  1076.855895\n",
       "3                4  1318.130032"
      ]
     },
     "execution_count": 45,
     "metadata": {},
     "output_type": "execute_result"
    }
   ],
   "source": [
    "group_names = ['1', '2', '3', '4']\n",
    "train['mean_dew_point_f'] = pd.qcut(train['mean_dew_point_f'], 4, labels=group_names)\n",
    "train[['mean_dew_point_f', 'duration']].groupby(['mean_dew_point_f'], as_index=False).mean().sort_values(by='mean_dew_point_f', ascending=True)"
   ]
  },
  {
   "cell_type": "code",
   "execution_count": 46,
   "metadata": {
    "collapsed": false,
    "deletable": true,
    "editable": true
   },
   "outputs": [
    {
     "data": {
      "text/html": [
       "<div>\n",
       "<table border=\"1\" class=\"dataframe\">\n",
       "  <thead>\n",
       "    <tr style=\"text-align: right;\">\n",
       "      <th></th>\n",
       "      <th>mean_humidity</th>\n",
       "      <th>duration</th>\n",
       "    </tr>\n",
       "  </thead>\n",
       "  <tbody>\n",
       "    <tr>\n",
       "      <th>0</th>\n",
       "      <td>1</td>\n",
       "      <td>1098.271584</td>\n",
       "    </tr>\n",
       "    <tr>\n",
       "      <th>1</th>\n",
       "      <td>2</td>\n",
       "      <td>1121.003302</td>\n",
       "    </tr>\n",
       "    <tr>\n",
       "      <th>2</th>\n",
       "      <td>3</td>\n",
       "      <td>1085.310515</td>\n",
       "    </tr>\n",
       "    <tr>\n",
       "      <th>3</th>\n",
       "      <td>4</td>\n",
       "      <td>1133.534873</td>\n",
       "    </tr>\n",
       "  </tbody>\n",
       "</table>\n",
       "</div>"
      ],
      "text/plain": [
       "  mean_humidity     duration\n",
       "0             1  1098.271584\n",
       "1             2  1121.003302\n",
       "2             3  1085.310515\n",
       "3             4  1133.534873"
      ]
     },
     "execution_count": 46,
     "metadata": {},
     "output_type": "execute_result"
    }
   ],
   "source": [
    "group_names = ['1', '2', '3', '4']\n",
    "train['mean_humidity'] = pd.qcut(train['mean_humidity'], 4, labels=group_names)\n",
    "train[['mean_humidity', 'duration']].groupby(['mean_humidity'], as_index=False).mean().sort_values(by='mean_humidity', ascending=True)"
   ]
  },
  {
   "cell_type": "code",
   "execution_count": 47,
   "metadata": {
    "collapsed": false,
    "deletable": true,
    "editable": true
   },
   "outputs": [
    {
     "data": {
      "text/html": [
       "<div>\n",
       "<table border=\"1\" class=\"dataframe\">\n",
       "  <thead>\n",
       "    <tr style=\"text-align: right;\">\n",
       "      <th></th>\n",
       "      <th>mean_sea_level_pressure_inches</th>\n",
       "      <th>duration</th>\n",
       "    </tr>\n",
       "  </thead>\n",
       "  <tbody>\n",
       "    <tr>\n",
       "      <th>0</th>\n",
       "      <td>1</td>\n",
       "      <td>1087.670092</td>\n",
       "    </tr>\n",
       "    <tr>\n",
       "      <th>1</th>\n",
       "      <td>2</td>\n",
       "      <td>1158.508659</td>\n",
       "    </tr>\n",
       "    <tr>\n",
       "      <th>2</th>\n",
       "      <td>3</td>\n",
       "      <td>1061.014187</td>\n",
       "    </tr>\n",
       "    <tr>\n",
       "      <th>3</th>\n",
       "      <td>4</td>\n",
       "      <td>1146.956470</td>\n",
       "    </tr>\n",
       "  </tbody>\n",
       "</table>\n",
       "</div>"
      ],
      "text/plain": [
       "  mean_sea_level_pressure_inches     duration\n",
       "0                              1  1087.670092\n",
       "1                              2  1158.508659\n",
       "2                              3  1061.014187\n",
       "3                              4  1146.956470"
      ]
     },
     "execution_count": 47,
     "metadata": {},
     "output_type": "execute_result"
    }
   ],
   "source": [
    "group_names = ['1', '2', '3', '4']\n",
    "train['mean_sea_level_pressure_inches'] = pd.qcut(train['mean_sea_level_pressure_inches'], 4, labels=group_names)\n",
    "train[['mean_sea_level_pressure_inches', 'duration']].groupby(['mean_sea_level_pressure_inches'], as_index=False).mean().sort_values(by='mean_sea_level_pressure_inches', ascending=True)\n"
   ]
  },
  {
   "cell_type": "code",
   "execution_count": 48,
   "metadata": {
    "collapsed": false,
    "deletable": true,
    "editable": true
   },
   "outputs": [
    {
     "data": {
      "text/html": [
       "<div>\n",
       "<table border=\"1\" class=\"dataframe\">\n",
       "  <thead>\n",
       "    <tr style=\"text-align: right;\">\n",
       "      <th></th>\n",
       "      <th>mean_wind_speed_mph</th>\n",
       "      <th>duration</th>\n",
       "    </tr>\n",
       "  </thead>\n",
       "  <tbody>\n",
       "    <tr>\n",
       "      <th>0</th>\n",
       "      <td>1</td>\n",
       "      <td>1110.747702</td>\n",
       "    </tr>\n",
       "    <tr>\n",
       "      <th>1</th>\n",
       "      <td>2</td>\n",
       "      <td>1220.228930</td>\n",
       "    </tr>\n",
       "    <tr>\n",
       "      <th>2</th>\n",
       "      <td>3</td>\n",
       "      <td>998.600309</td>\n",
       "    </tr>\n",
       "    <tr>\n",
       "      <th>3</th>\n",
       "      <td>4</td>\n",
       "      <td>1097.121257</td>\n",
       "    </tr>\n",
       "  </tbody>\n",
       "</table>\n",
       "</div>"
      ],
      "text/plain": [
       "  mean_wind_speed_mph     duration\n",
       "0                   1  1110.747702\n",
       "1                   2  1220.228930\n",
       "2                   3   998.600309\n",
       "3                   4  1097.121257"
      ]
     },
     "execution_count": 48,
     "metadata": {},
     "output_type": "execute_result"
    }
   ],
   "source": [
    "group_names = ['1', '2', '3', '4']\n",
    "train['mean_wind_speed_mph'] = pd.qcut(train['mean_wind_speed_mph'], 4, labels=group_names)\n",
    "train[['mean_wind_speed_mph', 'duration']].groupby(['mean_wind_speed_mph'], as_index=False).mean().sort_values(by='mean_wind_speed_mph', ascending=True)"
   ]
  },
  {
   "cell_type": "code",
   "execution_count": 49,
   "metadata": {
    "collapsed": false,
    "deletable": true,
    "editable": true
   },
   "outputs": [
    {
     "data": {
      "text/html": [
       "<div>\n",
       "<table border=\"1\" class=\"dataframe\">\n",
       "  <thead>\n",
       "    <tr style=\"text-align: right;\">\n",
       "      <th></th>\n",
       "      <th>max_gust_speed_mph</th>\n",
       "      <th>duration</th>\n",
       "    </tr>\n",
       "  </thead>\n",
       "  <tbody>\n",
       "    <tr>\n",
       "      <th>0</th>\n",
       "      <td>1</td>\n",
       "      <td>1047.843041</td>\n",
       "    </tr>\n",
       "    <tr>\n",
       "      <th>1</th>\n",
       "      <td>2</td>\n",
       "      <td>1265.753621</td>\n",
       "    </tr>\n",
       "    <tr>\n",
       "      <th>2</th>\n",
       "      <td>3</td>\n",
       "      <td>1053.089657</td>\n",
       "    </tr>\n",
       "    <tr>\n",
       "      <th>3</th>\n",
       "      <td>4</td>\n",
       "      <td>1086.799882</td>\n",
       "    </tr>\n",
       "    <tr>\n",
       "      <th>4</th>\n",
       "      <td>5</td>\n",
       "      <td>1095.189937</td>\n",
       "    </tr>\n",
       "    <tr>\n",
       "      <th>5</th>\n",
       "      <td>6</td>\n",
       "      <td>1013.928496</td>\n",
       "    </tr>\n",
       "  </tbody>\n",
       "</table>\n",
       "</div>"
      ],
      "text/plain": [
       "  max_gust_speed_mph     duration\n",
       "0                  1  1047.843041\n",
       "1                  2  1265.753621\n",
       "2                  3  1053.089657\n",
       "3                  4  1086.799882\n",
       "4                  5  1095.189937\n",
       "5                  6  1013.928496"
      ]
     },
     "execution_count": 49,
     "metadata": {},
     "output_type": "execute_result"
    }
   ],
   "source": [
    "group_names = ['1', '2', '3', '4', '5', '6']\n",
    "train['max_gust_speed_mph'] = pd.qcut(train['max_gust_speed_mph'], 6, labels=group_names)\n",
    "train[['max_gust_speed_mph', 'duration']].groupby(['max_gust_speed_mph'], as_index=False).mean().sort_values(by='max_gust_speed_mph', ascending=True)"
   ]
  },
  {
   "cell_type": "code",
   "execution_count": 50,
   "metadata": {
    "collapsed": false,
    "deletable": true,
    "editable": true
   },
   "outputs": [
    {
     "data": {
      "text/html": [
       "<div>\n",
       "<table border=\"1\" class=\"dataframe\">\n",
       "  <thead>\n",
       "    <tr style=\"text-align: right;\">\n",
       "      <th></th>\n",
       "      <th>wind_dir_degrees</th>\n",
       "      <th>duration</th>\n",
       "    </tr>\n",
       "  </thead>\n",
       "  <tbody>\n",
       "    <tr>\n",
       "      <th>0</th>\n",
       "      <td>1</td>\n",
       "      <td>1219.980691</td>\n",
       "    </tr>\n",
       "    <tr>\n",
       "      <th>1</th>\n",
       "      <td>2</td>\n",
       "      <td>964.206437</td>\n",
       "    </tr>\n",
       "    <tr>\n",
       "      <th>2</th>\n",
       "      <td>3</td>\n",
       "      <td>1014.358952</td>\n",
       "    </tr>\n",
       "    <tr>\n",
       "      <th>3</th>\n",
       "      <td>4</td>\n",
       "      <td>1058.948644</td>\n",
       "    </tr>\n",
       "    <tr>\n",
       "      <th>4</th>\n",
       "      <td>5</td>\n",
       "      <td>1115.633949</td>\n",
       "    </tr>\n",
       "    <tr>\n",
       "      <th>5</th>\n",
       "      <td>6</td>\n",
       "      <td>1316.708177</td>\n",
       "    </tr>\n",
       "  </tbody>\n",
       "</table>\n",
       "</div>"
      ],
      "text/plain": [
       "  wind_dir_degrees     duration\n",
       "0                1  1219.980691\n",
       "1                2   964.206437\n",
       "2                3  1014.358952\n",
       "3                4  1058.948644\n",
       "4                5  1115.633949\n",
       "5                6  1316.708177"
      ]
     },
     "execution_count": 50,
     "metadata": {},
     "output_type": "execute_result"
    }
   ],
   "source": [
    "group_names = ['1', '2', '3', '4', '5', '6']\n",
    "train['wind_dir_degrees'] = pd.qcut(train['wind_dir_degrees'], 6, labels=group_names)\n",
    "train[['wind_dir_degrees', 'duration']].groupby(['wind_dir_degrees'], as_index=False).mean().sort_values(by='wind_dir_degrees', ascending=True)"
   ]
  },
  {
   "cell_type": "code",
   "execution_count": 51,
   "metadata": {
    "collapsed": false,
    "deletable": true,
    "editable": true
   },
   "outputs": [
    {
     "data": {
      "text/html": [
       "<div>\n",
       "<table border=\"1\" class=\"dataframe\">\n",
       "  <thead>\n",
       "    <tr style=\"text-align: right;\">\n",
       "      <th></th>\n",
       "      <th>mean_visibility_miles</th>\n",
       "      <th>duration</th>\n",
       "    </tr>\n",
       "  </thead>\n",
       "  <tbody>\n",
       "    <tr>\n",
       "      <th>0</th>\n",
       "      <td>0</td>\n",
       "      <td>4314.302521</td>\n",
       "    </tr>\n",
       "    <tr>\n",
       "      <th>1</th>\n",
       "      <td>1</td>\n",
       "      <td>970.738084</td>\n",
       "    </tr>\n",
       "    <tr>\n",
       "      <th>2</th>\n",
       "      <td>4</td>\n",
       "      <td>1137.127259</td>\n",
       "    </tr>\n",
       "    <tr>\n",
       "      <th>3</th>\n",
       "      <td>5</td>\n",
       "      <td>4002.273876</td>\n",
       "    </tr>\n",
       "  </tbody>\n",
       "</table>\n",
       "</div>"
      ],
      "text/plain": [
       "   mean_visibility_miles     duration\n",
       "0                      0  4314.302521\n",
       "1                      1   970.738084\n",
       "2                      4  1137.127259\n",
       "3                      5  4002.273876"
      ]
     },
     "execution_count": 51,
     "metadata": {},
     "output_type": "execute_result"
    }
   ],
   "source": [
    "def pct_rank_qcut(series, n):\n",
    "    edges = pd.Series([float(i) / n for i in range(n + 1)])\n",
    "    f = lambda x: (edges >= x).argmax()\n",
    "    return series.rank(pct=1).apply(f)\n",
    "\n",
    "train['mean_visibility_miles'] = train['mean_visibility_miles'].astype(float)\n",
    "train['mean_visibility_miles'] = pct_rank_qcut(train.mean_visibility_miles, 5)\n",
    "\n",
    "train[['mean_visibility_miles', 'duration']].groupby(['mean_visibility_miles'], as_index=False).mean().sort_values(by='mean_visibility_miles', ascending=True)"
   ]
  },
  {
   "cell_type": "code",
   "execution_count": 52,
   "metadata": {
    "collapsed": false
   },
   "outputs": [],
   "source": [
    "    train_filtered['mean_temperature_f'] = pd.qcut(train_filtered['mean_temperature_f'], 5)\n",
    "    train_filtered['mean_dew_point_f'] = pd.qcut(train_filtered['mean_dew_point_f'], 4)\n",
    "    train_filtered['mean_humidity'] = pd.qcut(train_filtered['mean_humidity'], 4)\n",
    "    train_filtered['mean_sea_level_pressure_inches'] = pd.qcut(train_filtered['mean_sea_level_pressure_inches'], 4)\n",
    "    train_filtered['mean_wind_speed_mph'] = pd.qcut(train_filtered['mean_wind_speed_mph'], 4)\n",
    "    train_filtered['max_gust_speed_mph'] = pd.qcut(train_filtered['max_gust_speed_mph'], 6)\n",
    "    train_filtered['wind_dir_degrees'] = pd.qcut(train_filtered['wind_dir_degrees'], 6)\n",
    "    '''CHEAQUEAR ESTO'''\n",
    "    train_filtered['mean_visibility_miles'] = train_filtered['mean_visibility_miles'].astype(float)\n",
    "    train_filtered['mean_visibility_miles'] = pct_rank_qcut(train_filtered.mean_visibility_miles, 5)"
   ]
  },
  {
   "cell_type": "code",
   "execution_count": 53,
   "metadata": {
    "collapsed": true
   },
   "outputs": [],
   "source": [
    "    test['mean_temperature_f'] = pd.qcut(test['mean_temperature_f'], 5)\n",
    "    test['mean_dew_point_f'] = pd.qcut(test['mean_dew_point_f'], 4)\n",
    "    test['mean_humidity'] = pd.qcut(test['mean_humidity'], 4)\n",
    "    test['mean_sea_level_pressure_inches'] = pd.qcut(test['mean_sea_level_pressure_inches'], 4)\n",
    "    test['mean_wind_speed_mph'] = pd.qcut(test['mean_wind_speed_mph'], 4)\n",
    "    test['max_gust_speed_mph'] = pd.qcut(test['max_gust_speed_mph'], 6)\n",
    "    test['wind_dir_degrees'] = pd.qcut(test['wind_dir_degrees'], 6)\n",
    "    '''CHEAQUEAR ESTO'''\n",
    "    test['mean_visibility_miles'] = test['mean_visibility_miles'].astype(float)\n",
    "    test['mean_visibility_miles'] = pct_rank_qcut(test.mean_visibility_miles, 5)    "
   ]
  },
  {
   "cell_type": "code",
   "execution_count": 54,
   "metadata": {
    "collapsed": false
   },
   "outputs": [
    {
     "data": {
      "text/html": [
       "<div>\n",
       "<table border=\"1\" class=\"dataframe\">\n",
       "  <thead>\n",
       "    <tr style=\"text-align: right;\">\n",
       "      <th></th>\n",
       "      <th>duration</th>\n",
       "      <th>season</th>\n",
       "      <th>start_station_id</th>\n",
       "      <th>end_station_id</th>\n",
       "      <th>start_hour</th>\n",
       "      <th>day_of_week</th>\n",
       "      <th>subscription_type</th>\n",
       "      <th>mean_temperature_f</th>\n",
       "      <th>mean_dew_point_f</th>\n",
       "      <th>mean_humidity</th>\n",
       "      <th>mean_sea_level_pressure_inches</th>\n",
       "      <th>mean_visibility_miles</th>\n",
       "      <th>mean_wind_speed_mph</th>\n",
       "      <th>max_gust_speed_mph</th>\n",
       "      <th>precipitation_inches</th>\n",
       "      <th>events</th>\n",
       "      <th>wind_dir_degrees</th>\n",
       "    </tr>\n",
       "  </thead>\n",
       "  <tbody>\n",
       "    <tr>\n",
       "      <th>0</th>\n",
       "      <td>396</td>\n",
       "      <td>summer</td>\n",
       "      <td>50</td>\n",
       "      <td>60</td>\n",
       "      <td>8</td>\n",
       "      <td>3</td>\n",
       "      <td>Subscriber</td>\n",
       "      <td>5</td>\n",
       "      <td>3</td>\n",
       "      <td>1</td>\n",
       "      <td>3</td>\n",
       "      <td>4</td>\n",
       "      <td>2</td>\n",
       "      <td>5</td>\n",
       "      <td>0</td>\n",
       "      <td>Clear</td>\n",
       "      <td>3</td>\n",
       "    </tr>\n",
       "    <tr>\n",
       "      <th>1</th>\n",
       "      <td>981</td>\n",
       "      <td>summer</td>\n",
       "      <td>50</td>\n",
       "      <td>82</td>\n",
       "      <td>9</td>\n",
       "      <td>3</td>\n",
       "      <td>Subscriber</td>\n",
       "      <td>5</td>\n",
       "      <td>3</td>\n",
       "      <td>1</td>\n",
       "      <td>3</td>\n",
       "      <td>4</td>\n",
       "      <td>2</td>\n",
       "      <td>5</td>\n",
       "      <td>0</td>\n",
       "      <td>Clear</td>\n",
       "      <td>3</td>\n",
       "    </tr>\n",
       "  </tbody>\n",
       "</table>\n",
       "</div>"
      ],
      "text/plain": [
       "   duration  season  start_station_id  end_station_id  start_hour  \\\n",
       "0       396  summer                50              60           8   \n",
       "1       981  summer                50              82           9   \n",
       "\n",
       "   day_of_week subscription_type mean_temperature_f mean_dew_point_f  \\\n",
       "0            3        Subscriber                  5                3   \n",
       "1            3        Subscriber                  5                3   \n",
       "\n",
       "  mean_humidity mean_sea_level_pressure_inches  mean_visibility_miles  \\\n",
       "0             1                              3                      4   \n",
       "1             1                              3                      4   \n",
       "\n",
       "  mean_wind_speed_mph max_gust_speed_mph precipitation_inches events  \\\n",
       "0                   2                  5                    0  Clear   \n",
       "1                   2                  5                    0  Clear   \n",
       "\n",
       "  wind_dir_degrees  \n",
       "0                3  \n",
       "1                3  "
      ]
     },
     "execution_count": 54,
     "metadata": {},
     "output_type": "execute_result"
    }
   ],
   "source": [
    "train.head(2)"
   ]
  },
  {
   "cell_type": "code",
   "execution_count": 55,
   "metadata": {
    "collapsed": false
   },
   "outputs": [],
   "source": [
    "features = ['season', 'subscription_type', 'mean_temperature_f', 'mean_dew_point_f',  'mean_humidity', 'mean_sea_level_pressure_inches','mean_visibility_miles', 'mean_wind_speed_mph', 'max_gust_speed_mph', 'precipitation_inches', 'events',  'wind_dir_degrees']\n",
    "df_combined = pd.concat([train[features], test[features]])"
   ]
  },
  {
   "cell_type": "code",
   "execution_count": 58,
   "metadata": {
    "collapsed": false,
    "scrolled": true
   },
   "outputs": [
    {
     "ename": "ValueError",
     "evalue": "y contains new labels: ['autumn' 'spring' 'summer' 'winter']",
     "output_type": "error",
     "traceback": [
      "\u001b[0;31m---------------------------------------------------------------------------\u001b[0m",
      "\u001b[0;31mValueError\u001b[0m                                Traceback (most recent call last)",
      "\u001b[0;32m<ipython-input-58-fd85db8e37a0>\u001b[0m in \u001b[0;36m<module>\u001b[0;34m()\u001b[0m\n\u001b[1;32m      3\u001b[0m     \u001b[0mle\u001b[0m \u001b[0;34m=\u001b[0m \u001b[0mpreprocessing\u001b[0m\u001b[0;34m.\u001b[0m\u001b[0mLabelEncoder\u001b[0m\u001b[0;34m(\u001b[0m\u001b[0;34m)\u001b[0m\u001b[0;34m\u001b[0m\u001b[0m\n\u001b[1;32m      4\u001b[0m     \u001b[0mle\u001b[0m \u001b[0;34m=\u001b[0m \u001b[0mle\u001b[0m\u001b[0;34m.\u001b[0m\u001b[0mfit\u001b[0m\u001b[0;34m(\u001b[0m\u001b[0mdf_combined\u001b[0m\u001b[0;34m[\u001b[0m\u001b[0mfeature\u001b[0m\u001b[0;34m]\u001b[0m\u001b[0;34m)\u001b[0m\u001b[0;34m\u001b[0m\u001b[0m\n\u001b[0;32m----> 5\u001b[0;31m     \u001b[0mtrain\u001b[0m\u001b[0;34m[\u001b[0m\u001b[0mfeature\u001b[0m\u001b[0;34m]\u001b[0m \u001b[0;34m=\u001b[0m \u001b[0mle\u001b[0m\u001b[0;34m.\u001b[0m\u001b[0mtransform\u001b[0m\u001b[0;34m(\u001b[0m\u001b[0mtrain\u001b[0m\u001b[0;34m[\u001b[0m\u001b[0mfeature\u001b[0m\u001b[0;34m]\u001b[0m\u001b[0;34m)\u001b[0m\u001b[0;34m\u001b[0m\u001b[0m\n\u001b[0m\u001b[1;32m      6\u001b[0m     \u001b[0mtest\u001b[0m\u001b[0;34m[\u001b[0m\u001b[0mfeature\u001b[0m\u001b[0;34m]\u001b[0m \u001b[0;34m=\u001b[0m \u001b[0mle\u001b[0m\u001b[0;34m.\u001b[0m\u001b[0mtransform\u001b[0m\u001b[0;34m(\u001b[0m\u001b[0mtest\u001b[0m\u001b[0;34m[\u001b[0m\u001b[0mfeature\u001b[0m\u001b[0;34m]\u001b[0m\u001b[0;34m)\u001b[0m\u001b[0;34m\u001b[0m\u001b[0m\n",
      "\u001b[0;32m/usr/local/lib/python2.7/dist-packages/sklearn/preprocessing/label.pyc\u001b[0m in \u001b[0;36mtransform\u001b[0;34m(self, y)\u001b[0m\n\u001b[1;32m    151\u001b[0m         \u001b[0;32mif\u001b[0m \u001b[0mlen\u001b[0m\u001b[0;34m(\u001b[0m\u001b[0mnp\u001b[0m\u001b[0;34m.\u001b[0m\u001b[0mintersect1d\u001b[0m\u001b[0;34m(\u001b[0m\u001b[0mclasses\u001b[0m\u001b[0;34m,\u001b[0m \u001b[0mself\u001b[0m\u001b[0;34m.\u001b[0m\u001b[0mclasses_\u001b[0m\u001b[0;34m)\u001b[0m\u001b[0;34m)\u001b[0m \u001b[0;34m<\u001b[0m \u001b[0mlen\u001b[0m\u001b[0;34m(\u001b[0m\u001b[0mclasses\u001b[0m\u001b[0;34m)\u001b[0m\u001b[0;34m:\u001b[0m\u001b[0;34m\u001b[0m\u001b[0m\n\u001b[1;32m    152\u001b[0m             \u001b[0mdiff\u001b[0m \u001b[0;34m=\u001b[0m \u001b[0mnp\u001b[0m\u001b[0;34m.\u001b[0m\u001b[0msetdiff1d\u001b[0m\u001b[0;34m(\u001b[0m\u001b[0mclasses\u001b[0m\u001b[0;34m,\u001b[0m \u001b[0mself\u001b[0m\u001b[0;34m.\u001b[0m\u001b[0mclasses_\u001b[0m\u001b[0;34m)\u001b[0m\u001b[0;34m\u001b[0m\u001b[0m\n\u001b[0;32m--> 153\u001b[0;31m             \u001b[0;32mraise\u001b[0m \u001b[0mValueError\u001b[0m\u001b[0;34m(\u001b[0m\u001b[0;34m\"y contains new labels: %s\"\u001b[0m \u001b[0;34m%\u001b[0m \u001b[0mstr\u001b[0m\u001b[0;34m(\u001b[0m\u001b[0mdiff\u001b[0m\u001b[0;34m)\u001b[0m\u001b[0;34m)\u001b[0m\u001b[0;34m\u001b[0m\u001b[0m\n\u001b[0m\u001b[1;32m    154\u001b[0m         \u001b[0;32mreturn\u001b[0m \u001b[0mnp\u001b[0m\u001b[0;34m.\u001b[0m\u001b[0msearchsorted\u001b[0m\u001b[0;34m(\u001b[0m\u001b[0mself\u001b[0m\u001b[0;34m.\u001b[0m\u001b[0mclasses_\u001b[0m\u001b[0;34m,\u001b[0m \u001b[0my\u001b[0m\u001b[0;34m)\u001b[0m\u001b[0;34m\u001b[0m\u001b[0m\n\u001b[1;32m    155\u001b[0m \u001b[0;34m\u001b[0m\u001b[0m\n",
      "\u001b[0;31mValueError\u001b[0m: y contains new labels: ['autumn' 'spring' 'summer' 'winter']"
     ]
    }
   ],
   "source": [
    "    from sklearn import preprocessing    \n",
    "    for feature in features:\n",
    "        le = preprocessing.LabelEncoder()\n",
    "        le = le.fit(df_combined[feature])\n",
    "        train[feature] = le.transform(train[feature])\n",
    "        test[feature] = le.transform(test[feature])"
   ]
  },
  {
   "cell_type": "code",
   "execution_count": null,
   "metadata": {
    "collapsed": true
   },
   "outputs": [],
   "source": []
  }
 ],
 "metadata": {
  "kernelspec": {
   "display_name": "Python 2",
   "language": "python",
   "name": "python2"
  },
  "language_info": {
   "codemirror_mode": {
    "name": "ipython",
    "version": 2
   },
   "file_extension": ".py",
   "mimetype": "text/x-python",
   "name": "python",
   "nbconvert_exporter": "python",
   "pygments_lexer": "ipython2",
   "version": "2.7.12"
  }
 },
 "nbformat": 4,
 "nbformat_minor": 2
}
